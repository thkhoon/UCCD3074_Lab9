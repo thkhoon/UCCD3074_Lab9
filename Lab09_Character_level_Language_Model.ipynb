{
 "cells": [
  {
   "cell_type": "markdown",
   "metadata": {
    "id": "qV6wKDNeCycB"
   },
   "source": [
    "# Lab 09 - Character-level Language Model with LSTM\n",
    "\n",
    "In this lab, your task is to build a character-level language model with LSTM layer.\n",
    "\n",
    "Reference: [Let's build GPT: from scratch, in code, spelled out (by Andrej Karpathy)](https://www.youtube.com/watch?v=kCc8FmEb1nY)"
   ]
  },
  {
   "cell_type": "code",
   "execution_count": null,
   "metadata": {
    "id": "3TBlBd_SJB8r"
   },
   "outputs": [],
   "source": [
    "from google.colab import drive\n",
    "drive.mount('/content/drive')"
   ]
  },
  {
   "cell_type": "code",
   "execution_count": null,
   "metadata": {
    "id": "_9VxjMNWxlJd"
   },
   "outputs": [],
   "source": [
    "cd \"/content/drive/MyDrive/UCCD3074_Labs/UCCD3074_Lab9\""
   ]
  },
  {
   "cell_type": "code",
   "execution_count": null,
   "metadata": {
    "id": "tKtkkA9zxox0"
   },
   "outputs": [],
   "source": [
    "import os, time\n",
    "import torch\n",
    "import torch.nn as nn\n",
    "from torch.nn import functional as F"
   ]
  },
  {
   "cell_type": "code",
   "execution_count": null,
   "metadata": {
    "id": "SZkculeDA1Sn"
   },
   "outputs": [],
   "source": [
    "torch.manual_seed(1234)\n",
    "device = 'cuda' if torch.cuda.is_available() else \"cpu\""
   ]
  },
  {
   "cell_type": "code",
   "execution_count": null,
   "metadata": {
    "id": "L36VTWzgMhlv"
   },
   "outputs": [],
   "source": [
    "if not os.path.exists('input.txt'):\n",
    "    !wget 'https://raw.githubusercontent.com/karpathy/char-rnn/master/data/tinyshakespeare/input.txt'"
   ]
  },
  {
   "cell_type": "markdown",
   "metadata": {
    "id": "zr2jC_cVxzI0"
   },
   "source": [
    "---\n",
    "# Load the dataset\n",
    "\n",
    "Read the dataset into the string `raw_data`."
   ]
  },
  {
   "cell_type": "code",
   "execution_count": null,
   "metadata": {
    "id": "SwC3XfWextJk"
   },
   "outputs": [],
   "source": [
    "with open('./input.txt', 'r', encoding='utf-8') as f:\n",
    "    raw_data = f.read()\n",
    "\n",
    "# print the length of the datasets\n",
    "# ...\n",
    "\n",
    "# look at the first 1000 characters\n",
    "# ..."
   ]
  },
  {
   "cell_type": "markdown",
   "metadata": {
    "id": "WNiGSorM6FJN"
   },
   "source": [
    "---\n",
    "# Create the vocabulary"
   ]
  },
  {
   "cell_type": "markdown",
   "metadata": {
    "id": "jTjm8ksi6UJt"
   },
   "source": [
    "Get the the vocabulary `vocab` from the raw data. `vocab` contains all unique characters in the raw data. "
   ]
  },
  {
   "cell_type": "code",
   "execution_count": null,
   "metadata": {
    "id": "s85Rv4bM6Hu8"
   },
   "outputs": [],
   "source": [
    "# vocab = ...\n",
    "# vocab_size = ...\n",
    "print('vocab:', vocab)\n",
    "print('vocab_size:', vocab_size)"
   ]
  },
  {
   "cell_type": "markdown",
   "metadata": {
    "id": "F_9EgD5E6WST"
   },
   "source": [
    "Create the vocabulary mapping functions. `stoi` performs the mapping from the character token to its index, and `itos`, vice versa."
   ]
  },
  {
   "cell_type": "code",
   "execution_count": null,
   "metadata": {
    "id": "ZTxiTpTb6JE8"
   },
   "outputs": [],
   "source": [
    "# stoi = ...\n",
    "# itos = ..."
   ]
  },
  {
   "cell_type": "markdown",
   "metadata": {
    "id": "TpB4-yH56aSL"
   },
   "source": [
    "Create the function to encode and decode the text. `encode_text` encodes a string into its one-hot integer representation while `decode_text` decodes an integer representation back to its text."
   ]
  },
  {
   "cell_type": "code",
   "execution_count": null,
   "metadata": {
    "id": "mAAE8brd6hk8"
   },
   "outputs": [],
   "source": [
    "# encode_text = ...\n",
    "# ... encode the text 'Hello how do you do?'\n",
    "print(encoded)"
   ]
  },
  {
   "cell_type": "code",
   "execution_count": null,
   "metadata": {
    "id": "rbOrrWM16nnc"
   },
   "outputs": [],
   "source": [
    "# decode_text = lambda l : ''.join([itos[i] for i in l])\n",
    "# ... decode the encoded text above\n",
    "print(decoded)"
   ]
  },
  {
   "cell_type": "markdown",
   "metadata": {
    "id": "BUPTHW3R6_Mf"
   },
   "source": [
    "Now, we encode the raw data and then convert it into a 1-D integer tensor `data`. "
   ]
  },
  {
   "cell_type": "code",
   "execution_count": null,
   "metadata": {
    "id": "q4CBop-S67zc"
   },
   "outputs": [],
   "source": [
    "# data = ... encode raw data and convert to tensor\n",
    "print('Shape of data:', data.shape)\n",
    "print('Type of data: ', data.dtype)\n",
    "print('\\nFirst 100 characters of data:\\n', data[:100])"
   ]
  },
  {
   "cell_type": "markdown",
   "metadata": {
    "id": "n6u7ktav7_Xr"
   },
   "source": [
    "To train the language model, the samples will be trained with a block of text with `block_size` characters. The function `get_batch` randomly sample a block of text as input `x`. The label `y` is the block of text shifted by 1 position of `x`."
   ]
  },
  {
   "cell_type": "code",
   "execution_count": null,
   "metadata": {
    "id": "Cy1aMLaN8Jzb"
   },
   "outputs": [],
   "source": [
    "torch.manual_seed(1234)\n",
    "def get_batch(batch_size, block_size, device):\n",
    "    # ix   = ... randomly sample a valid starting position \n",
    "    # x    = ... get sampled input\n",
    "    # y    = ... get sampled target value\n",
    "    # x, y = ... transfer to targeted device\n",
    "    return x, y"
   ]
  },
  {
   "cell_type": "code",
   "execution_count": null,
   "metadata": {
    "id": "urgJM0aA9BkL"
   },
   "outputs": [],
   "source": [
    "batch_size=4\n",
    "block_size=8"
   ]
  },
  {
   "cell_type": "code",
   "execution_count": null,
   "metadata": {
    "id": "r4FjJRUoFRGY"
   },
   "outputs": [],
   "source": [
    "device = \"cuda\" if torch.cuda.is_available() else \"cpu\"\n",
    "x_batch, y_batch = get_batch(batch_size, block_size, device)\n",
    "\n",
    "print(x_batch)\n",
    "print('----------------')\n",
    "print(y_batch)"
   ]
  },
  {
   "cell_type": "markdown",
   "metadata": {
    "id": "yrXtEuA-9d3Q"
   },
   "source": [
    "Note that when training on `(x, y)`, the model is learning multiple conditional probabilities `p(target|context)` simultaneously."
   ]
  },
  {
   "cell_type": "code",
   "execution_count": null,
   "metadata": {
    "id": "_tyXVDo99Fmb"
   },
   "outputs": [],
   "source": [
    "x, y = x_batch[0], y_batch[0]\n",
    "\n",
    "print('x:', x.tolist())\n",
    "print('y:', y.tolist(), '\\n')\n",
    "\n",
    "for t in range(block_size):\n",
    "    context = x[:t+1]\n",
    "    target = y[t]\n",
    "    print(f'when input is: {context}, the target is: {target}')"
   ]
  },
  {
   "cell_type": "markdown",
   "metadata": {
    "id": "UmcAroiO9xYu"
   },
   "source": [
    "# Create the character-level language model with LSTM\n",
    "\n",
    "#### Network structure\n",
    "\n",
    "Now, let's build the character-level language model with LSTM. The network `LMNet` has the following layers:\n",
    "\n",
    "|Layer| Configuration | Shape |\n",
    "|---|---|---|\n",
    "| Input | - | `(B, T)`|\n",
    "|Embedding | num_embedding = vocab_size, <br> embedding_dim = n_embd | `(B, T, n_embd)`|\n",
    "|LSTM | input_size = n_embd, <br> hidden_size = n_embd  <br> num_layers = 1, <br> batch_first = true| `(B, T, n_embd)` |\n",
    "| fc | in_features = n_embd, <br> out_features = vocab_size | `(B, T, vocab_size)` |\n",
    "\n",
    "\n",
    "#### Generating novel text\n",
    "\n",
    "To generate novel text, we implement the method `generate`. Since the network is trained on a sequence of length `T` = `block_size`, when generating the text, we feed the most recent `block_size` characters into the network to generate the next character. Here are the steps:\n",
    "\n",
    "1. Crop the most recent `block_size` characters in the generated text\n",
    "2. The cropped text is fed to the generative model to generate the next character. The network output the `logit` value.\n",
    "3. Convert the logit of the network to `probit` value by performing `softmax` operation.\n",
    "4. Sample a character from the `probit` by using [`torch.multinorm`](https://pytorch.org/docs/stable/generated/torch.multinomial.html)\n",
    "5. Append the sampled character to the end of the generated text.\n",
    "6. Repeat steps 1-5 for `text_len` times\n",
    "\n"
   ]
  },
  {
   "cell_type": "markdown",
   "metadata": {
    "id": "NZEVBgDr5uoW"
   },
   "source": [
    "![image.png](data:image/png;base64,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)"
   ]
  },
  {
   "cell_type": "code",
   "execution_count": null,
   "metadata": {
    "id": "RLIRvS4u-aOK"
   },
   "outputs": [],
   "source": [
    "class LMNet(nn.Module):\n",
    "    def __init__(self, vocab_size, n_embd):\n",
    "        super().__init__()\n",
    "        # ... your code here ...\n",
    "    \n",
    "    def forward(self, x):             \n",
    "        # ... your code here ...        \n",
    "        return x\n",
    "\n",
    "    def generate(self, text_len, block_size):\n",
    "\n",
    "        model.eval()  # set to evaluation mode\n",
    "\n",
    "        # initialize the text with the first token (newline)\n",
    "        num_samples = 1\n",
    "        num_tokens = 1\n",
    "        text = torch.zeros((num_samples, num_tokens), dtype=torch.long).to(device)  \n",
    "        \n",
    "        # repeat until the length of text = \"text_len\"\n",
    "        # ...\n",
    "\n",
    "            # crop text to the last block-size tokens\n",
    "            # ...\n",
    "\n",
    "            # get the predictions\n",
    "            # ...\n",
    "            \n",
    "            # focus only on the last time step\n",
    "            # ...\n",
    "\n",
    "            # apply soft max to get probabilities\n",
    "            # ...\n",
    "\n",
    "            # sample from distribution\n",
    "            # ...\n",
    "\n",
    "            # append sampled index to the running sequence\n",
    "            # ...\n",
    "\n",
    "            # print the sample\n",
    "            # print(itos[next_token.item()], end='')\n",
    "            # time.sleep(0.1)            "
   ]
  },
  {
   "cell_type": "markdown",
   "metadata": {
    "id": "NtfWzZyY2p6y"
   },
   "source": [
    "Create the model for testing"
   ]
  },
  {
   "cell_type": "code",
   "execution_count": null,
   "metadata": {
    "id": "z6r0s5Ll2npv"
   },
   "outputs": [],
   "source": [
    "model = LMNet(vocab_size=len(vocab), n_embd=32).to(device)"
   ]
  },
  {
   "cell_type": "code",
   "execution_count": null,
   "metadata": {
    "id": "FYmUE1xRE1QG"
   },
   "outputs": [],
   "source": [
    "x, y = get_batch(batch_size=4, block_size=8)\n",
    "x, y = x.to(device), y.to(device)\n",
    "\n",
    "yhat = model(x)"
   ]
  },
  {
   "cell_type": "markdown",
   "metadata": {
    "id": "2mAGHnS_G1W4"
   },
   "source": [
    "--------------------\n",
    "# Train the model"
   ]
  },
  {
   "cell_type": "code",
   "execution_count": null,
   "metadata": {
    "id": "kQLiuwTNHtt6"
   },
   "outputs": [],
   "source": [
    "batch_size    = 128\n",
    "block_size    = 256\n",
    "lr            = 3e-4\n",
    "max_iters     = 10000\n",
    "show_interval = 500\n",
    "n_embd        = 256"
   ]
  },
  {
   "cell_type": "markdown",
   "metadata": {
    "id": "tqR3czgq7pbQ"
   },
   "source": [
    "Create the model"
   ]
  },
  {
   "cell_type": "code",
   "execution_count": null,
   "metadata": {
    "id": "zisyaROcK85q"
   },
   "outputs": [],
   "source": [
    "model = LMNet(vocab_size=len(vocab), n_embd=n_embd).to(device)"
   ]
  },
  {
   "cell_type": "markdown",
   "metadata": {
    "id": "XuDdBcZ37qw1"
   },
   "source": [
    "Create the optimizer"
   ]
  },
  {
   "cell_type": "code",
   "execution_count": null,
   "metadata": {
    "id": "r68a9VZ5FZDl"
   },
   "outputs": [],
   "source": [
    "optimizer = torch.optim.AdamW(model.parameters(), lr=lr)"
   ]
  },
  {
   "cell_type": "markdown",
   "metadata": {
    "id": "TUt0uDpS7sxq"
   },
   "source": [
    "Train the model\n",
    "\n",
    "To train the model, we use **teacher forcing** where the predicted output is simply the 1-shifted sequence of the input sequence. We shall train the network with sentence sequence of length `block_size`. Since the network is trained on sequences of length `block_size`, during inference, the generative model should use input sequence of similar length to get good results."
   ]
  },
  {
   "cell_type": "markdown",
   "metadata": {
    "id": "XCrIcx0j_n8W"
   },
   "source": [
    "![image.png](data:image/png;base64,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)"
   ]
  },
  {
   "cell_type": "markdown",
   "metadata": {
    "id": "EAfX8Nak_1Py"
   },
   "source": [
    "During training, the network is based on the many-to-many architecture. However, during inference (Figure at generating novel text), the network is based on many-to-one architecture."
   ]
  },
  {
   "cell_type": "code",
   "execution_count": null,
   "metadata": {
    "id": "u1Z_kLaCG5-D"
   },
   "outputs": [],
   "source": [
    "model.train()  # set to training mode\n",
    "\n",
    "for steps in range(max_iters):\n",
    "\n",
    "    # sample a batch of data\n",
    "    # x, y = ... get batch data ...\n",
    "        \n",
    "    # forward propagation\n",
    "    # yhat = perform inference \n",
    "\n",
    "    # compute loss\n",
    "    B, T, C = yhat_batch.shape\n",
    "    # yhat = ... reshape from (B, T, C) --> (B*T, C)\n",
    "    # y = ... reshape from (B, T) --> (B*T,)\n",
    "    # loss = ... compute cross entropy loss...\n",
    "\n",
    "    # backpropagation\n",
    "    # ... perform backprop\n",
    "    # ... update parameter\n",
    "\n",
    "    # reset the optimizer\n",
    "    # ... reset optimizer\n",
    "\n",
    "    # print the training loss\n",
    "    if steps % show_interval == 0:\n",
    "        print(f\"Iter {steps}: train loss {loss:.4f}\")"
   ]
  },
  {
   "cell_type": "markdown",
   "metadata": {
    "id": "SLJ98MTmKWsY"
   },
   "source": [
    "Generate text"
   ]
  },
  {
   "cell_type": "code",
   "execution_count": null,
   "metadata": {
    "id": "QhlJwCCLKIz4"
   },
   "outputs": [],
   "source": [
    "model.generate(text_len=1000, block_size=block_size)"
   ]
  }
 ],
 "metadata": {
  "accelerator": "GPU",
  "colab": {
   "provenance": []
  },
  "gpuClass": "standard",
  "kernelspec": {
   "display_name": "Python 3 (ipykernel)",
   "language": "python",
   "name": "python3"
  },
  "language_info": {
   "codemirror_mode": {
    "name": "ipython",
    "version": 3
   },
   "file_extension": ".py",
   "mimetype": "text/x-python",
   "name": "python",
   "nbconvert_exporter": "python",
   "pygments_lexer": "ipython3",
   "version": "3.9.12"
  }
 },
 "nbformat": 4,
 "nbformat_minor": 1
}
